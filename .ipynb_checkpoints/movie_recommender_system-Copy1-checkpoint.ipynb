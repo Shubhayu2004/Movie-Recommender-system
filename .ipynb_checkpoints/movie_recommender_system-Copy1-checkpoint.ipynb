{
 "cells": [
  {
   "cell_type": "code",
   "execution_count": 1,
   "id": "ef7d6092-2c41-4a33-97f7-9f10ef26296e",
   "metadata": {},
   "outputs": [],
   "source": [
    "import pandas as pd\n",
    "import numpy as np"
   ]
  },
  {
   "cell_type": "code",
   "execution_count": null,
   "id": "c726810f-2402-483a-b5e6-d6247cb761bb",
   "metadata": {},
   "outputs": [],
   "source": [
    "movies = pd.read_csv(\"tmdb_5000_movies.csv\")\n",
    "credits = pd.read_csv(\"tmdb_5000_credits.csv\")\n"
   ]
  },
  {
   "cell_type": "code",
   "execution_count": null,
   "id": "b433b323-12f6-4893-a64d-96e8fef21593",
   "metadata": {},
   "outputs": [],
   "source": [
    "movies.head(1)"
   ]
  },
  {
   "cell_type": "code",
   "execution_count": null,
   "id": "440de782-5681-4f7f-9fb3-467ef381f9a3",
   "metadata": {},
   "outputs": [],
   "source": [
    "credits.head(1)"
   ]
  },
  {
   "cell_type": "code",
   "execution_count": null,
   "id": "47c75a8f-4601-4430-bd8d-509fadeb1fb9",
   "metadata": {},
   "outputs": [],
   "source": []
  },
  {
   "cell_type": "code",
   "execution_count": null,
   "id": "7330b3de-d1be-402b-847f-1a70510d5e55",
   "metadata": {},
   "outputs": [],
   "source": [
    "movies = movies.merge(credits , on= \"title\")\n"
   ]
  },
  {
   "cell_type": "code",
   "execution_count": null,
   "id": "72b15b68-ef79-40da-8ea1-88c7f99625ac",
   "metadata": {},
   "outputs": [],
   "source": [
    "movies = movies[['title','genres','id','keywords','overview','cast','crew']]\n"
   ]
  },
  {
   "cell_type": "code",
   "execution_count": null,
   "id": "ad3f6a16-8d45-4f93-b5a4-ec44ca5b5747",
   "metadata": {},
   "outputs": [],
   "source": [
    "movies.head()"
   ]
  },
  {
   "cell_type": "code",
   "execution_count": null,
   "id": "c000be3c-dba1-4e93-9467-52fe95597d31",
   "metadata": {},
   "outputs": [],
   "source": [
    "movies.isnull().sum()"
   ]
  },
  {
   "cell_type": "code",
   "execution_count": null,
   "id": "3aa3a3e0-35cc-4d35-ae4b-cf304c7a2c7d",
   "metadata": {},
   "outputs": [],
   "source": [
    "movies.duplicated().sum()"
   ]
  },
  {
   "cell_type": "code",
   "execution_count": null,
   "id": "b635c5ac-17ae-4829-bb82-fb3654722423",
   "metadata": {},
   "outputs": [],
   "source": [
    "movies.iloc[0].genres\n"
   ]
  },
  {
   "cell_type": "code",
   "execution_count": null,
   "id": "1667c6cf-e026-4740-a31a-c28f219b56a5",
   "metadata": {},
   "outputs": [],
   "source": [
    "# this is quite messy why not have a function which will just take out the genre like action , adventure , etc "
   ]
  },
  {
   "cell_type": "code",
   "execution_count": null,
   "id": "9188825f-2e05-4947-891d-c0734fd85d95",
   "metadata": {},
   "outputs": [],
   "source": [
    "import ast \n",
    "def convert(obj):\n",
    "    L=[]\n",
    "    for i in ast.literal_eval(obj):\n",
    "        L.append(i['name'])\n",
    "    return L\n",
    "    "
   ]
  },
  {
   "cell_type": "code",
   "execution_count": null,
   "id": "864aef1a-0fef-4e4b-9462-a38055348ad6",
   "metadata": {},
   "outputs": [],
   "source": [
    "movies['genres'] = movies['genres'].apply(convert)"
   ]
  },
  {
   "cell_type": "code",
   "execution_count": null,
   "id": "97d70e02-2259-4b9c-bd72-7f4c0dcfdeac",
   "metadata": {},
   "outputs": [],
   "source": [
    "movies.head()"
   ]
  },
  {
   "cell_type": "code",
   "execution_count": null,
   "id": "e7446715-6b4b-4d56-b194-ca744c8dc502",
   "metadata": {},
   "outputs": [],
   "source": [
    "movies['keywords'] = movies['keywords'].apply(convert)\n",
    "#Same thing with keywords\n"
   ]
  },
  {
   "cell_type": "code",
   "execution_count": null,
   "id": "92e921c8-6a15-4d73-a206-d1105d2cfc03",
   "metadata": {},
   "outputs": [],
   "source": [
    "movies.head()\n"
   ]
  },
  {
   "cell_type": "code",
   "execution_count": null,
   "id": "8f1ccb12-2201-46a2-8cb3-0dfa8a7327da",
   "metadata": {},
   "outputs": [],
   "source": [
    "movies.iloc[0].cast"
   ]
  },
  {
   "cell_type": "code",
   "execution_count": null,
   "id": "5613e158-a5e0-45e4-93f7-562912cce494",
   "metadata": {},
   "outputs": [],
   "source": [
    "movies['cast'] = movies['cast'].apply(convert)"
   ]
  },
  {
   "cell_type": "code",
   "execution_count": null,
   "id": "99f48cca-9740-4f45-a955-dca3d7eebe63",
   "metadata": {},
   "outputs": [],
   "source": [
    "movies.head()"
   ]
  },
  {
   "cell_type": "code",
   "execution_count": null,
   "id": "abb9548d-fa11-4aab-8627-c349f8e69a63",
   "metadata": {},
   "outputs": [],
   "source": [
    "def find_director(obj):\n",
    "    L=[]\n",
    "    for i in ast.literal_eval(obj):\n",
    "        if i['job'] == 'Director':\n",
    "            L.append(i['name'])\n",
    "    return L"
   ]
  },
  {
   "cell_type": "code",
   "execution_count": null,
   "id": "8e41347d-4be9-405a-8212-2b2c1231ab77",
   "metadata": {},
   "outputs": [],
   "source": [
    "movies['crew'] = movies['crew'].apply(find_director)"
   ]
  },
  {
   "cell_type": "code",
   "execution_count": null,
   "id": "cd9e377f-6ee2-476c-a257-757301534131",
   "metadata": {},
   "outputs": [],
   "source": [
    "movies['cast'] = movies['cast'].apply(lambda x:x[0:3])"
   ]
  },
  {
   "cell_type": "code",
   "execution_count": null,
   "id": "fd435c69-8657-4128-bb49-da25432d87a5",
   "metadata": {},
   "outputs": [],
   "source": [
    "movies.head()"
   ]
  },
  {
   "cell_type": "code",
   "execution_count": null,
   "id": "283e2b3c-fac4-4fcb-9dd3-fe71777f00e9",
   "metadata": {},
   "outputs": [],
   "source": [
    "def collapse(L):\n",
    "    L1 = []\n",
    "    for i in L:\n",
    "        L1.append(i.replace(\" \",\"\"))\n",
    "    return L1"
   ]
  },
  {
   "cell_type": "code",
   "execution_count": null,
   "id": "f9fc535f-23e3-465f-bfe3-f8e31b634112",
   "metadata": {},
   "outputs": [],
   "source": [
    "movies['cast'] = movies['cast'].apply(collapse)\n",
    "movies['crew'] = movies['crew'].apply(collapse)\n",
    "movies['genres'] = movies['genres'].apply(collapse)\n",
    "movies['keywords'] = movies['keywords'].apply(collapse)"
   ]
  },
  {
   "cell_type": "code",
   "execution_count": null,
   "id": "77a3d9d0-2400-4be3-891a-c6af4f3cd684",
   "metadata": {},
   "outputs": [],
   "source": [
    "movies.head()"
   ]
  },
  {
   "cell_type": "code",
   "execution_count": null,
   "id": "762955db-28ba-4d9e-b178-5842b5d49e79",
   "metadata": {},
   "outputs": [],
   "source": [
    "movies.dropna(inplace=True)\n",
    "movies['overview'] = movies['overview'].apply(lambda x:x.split())\n"
   ]
  },
  {
   "cell_type": "code",
   "execution_count": null,
   "id": "6d7a1eda-fdb6-4b20-9b6c-53d2214c6221",
   "metadata": {},
   "outputs": [],
   "source": [
    "movies['tags'] = movies['overview']+ movies['crew']+ movies['cast']+ movies['genres']"
   ]
  },
  {
   "cell_type": "code",
   "execution_count": null,
   "id": "4aeccd25-0371-4ffc-b8e3-44ba8bcdc0ff",
   "metadata": {},
   "outputs": [],
   "source": [
    "movies.head()"
   ]
  },
  {
   "cell_type": "code",
   "execution_count": null,
   "id": "1cf71757-a8e7-46ed-a30b-9480a98689d9",
   "metadata": {},
   "outputs": [],
   "source": [
    "movies = movies.drop(columns=['overview','genres','keywords','cast','crew'])\n"
   ]
  },
  {
   "cell_type": "code",
   "execution_count": null,
   "id": "6eba2989-8fef-4b38-a613-eddd61885381",
   "metadata": {},
   "outputs": [],
   "source": [
    "movies['tags'] = movies['tags'].apply(lambda x: \" \".join(x))\n"
   ]
  },
  {
   "cell_type": "code",
   "execution_count": null,
   "id": "b671c310-7b0a-4f6f-810d-60256359eef6",
   "metadata": {},
   "outputs": [],
   "source": [
    "movies.head()"
   ]
  },
  {
   "cell_type": "code",
   "execution_count": null,
   "id": "1b03408d-d316-47cb-8654-81384a171d62",
   "metadata": {},
   "outputs": [],
   "source": [
    "import nltk"
   ]
  },
  {
   "cell_type": "code",
   "execution_count": null,
   "id": "0eb6b732-ca21-4376-8481-8356eab35115",
   "metadata": {},
   "outputs": [],
   "source": [
    "from nltk.stem.porter import PorterStemmer\n",
    "ps = PorterStemmer()"
   ]
  },
  {
   "cell_type": "code",
   "execution_count": null,
   "id": "f18968df-420c-4e83-a302-bfca98ccedc7",
   "metadata": {},
   "outputs": [],
   "source": [
    "def stem(text):\n",
    "    y = []\n",
    "\n",
    "    for i in text.split():\n",
    "        y.append(ps.stem(i))\n",
    "    return \" \".join(y)"
   ]
  },
  {
   "cell_type": "code",
   "execution_count": null,
   "id": "93feefbe-4693-4eb2-b378-15b2d31b7803",
   "metadata": {},
   "outputs": [],
   "source": [
    "movies['tags'] = movies['tags'].apply(stem)"
   ]
  },
  {
   "cell_type": "code",
   "execution_count": null,
   "id": "7b97d42c-ca7c-4ba3-81ff-d1f4bcd12121",
   "metadata": {},
   "outputs": [],
   "source": [
    "from sklearn.feature_extraction.text import CountVectorizer\n",
    "cv = CountVectorizer(max_features=5000,stop_words='english')"
   ]
  },
  {
   "cell_type": "code",
   "execution_count": null,
   "id": "1b7eec0a-0d73-4a41-a9e4-7fac2bae9a6f",
   "metadata": {},
   "outputs": [],
   "source": []
  },
  {
   "cell_type": "code",
   "execution_count": null,
   "id": "9e98a158-bd90-41c8-9034-b7cc4602ebc9",
   "metadata": {},
   "outputs": [],
   "source": [
    "vector = cv.fit_transform(movies['tags']).toarray()\n"
   ]
  },
  {
   "cell_type": "code",
   "execution_count": null,
   "id": "435a30c2-e468-4897-8d05-6609d3353b82",
   "metadata": {},
   "outputs": [],
   "source": [
    "vector"
   ]
  },
  {
   "cell_type": "code",
   "execution_count": null,
   "id": "fddc4be5-f3e1-4392-acc9-a464f8d8387b",
   "metadata": {},
   "outputs": [],
   "source": [
    "e = cv.get_feature_names_out()\n"
   ]
  },
  {
   "cell_type": "code",
   "execution_count": null,
   "id": "47941273-9cab-4154-98f4-9ed9dc3c95a0",
   "metadata": {},
   "outputs": [],
   "source": [
    "from sklearn.metrics.pairwise import cosine_similarity\n"
   ]
  },
  {
   "cell_type": "code",
   "execution_count": null,
   "id": "cd1a3a06-7142-43a5-9988-284341c492ba",
   "metadata": {},
   "outputs": [],
   "source": [
    "similarity = cosine_similarity(vector)\n"
   ]
  },
  {
   "cell_type": "code",
   "execution_count": null,
   "id": "9b3a08ad-083a-4ce9-a4c5-ceafb2340412",
   "metadata": {},
   "outputs": [],
   "source": [
    "def recommend(movie):\n",
    "    index = movies[movies['title'] == movie].index[0]\n",
    "    distances = sorted(list(enumerate(similarity[index])),reverse=True,key = lambda x: x[1])\n",
    "    for i in distances[1:6]:\n",
    "        print(movies.iloc[i[0]].title)\n",
    "        "
   ]
  },
  {
   "cell_type": "code",
   "execution_count": null,
   "id": "06459947-5ecc-4e14-a298-ad6b2befb810",
   "metadata": {},
   "outputs": [],
   "source": [
    "recommend('The Dark Knight Rises')"
   ]
  },
  {
   "cell_type": "code",
   "execution_count": null,
   "id": "3a9122ec-cd5d-44fc-b3b2-b0dd7915b3d5",
   "metadata": {},
   "outputs": [],
   "source": [
    "import pickle"
   ]
  },
  {
   "cell_type": "code",
   "execution_count": null,
   "id": "b708694b-2b3a-47fa-866f-a20ac1c4aa1b",
   "metadata": {},
   "outputs": [],
   "source": [
    "pickle.dump(movies,open('movie_list.pkl','wb'))\n",
    "pickle.dump(similarity,open('similarity.pkl','wb'))"
   ]
  },
  {
   "cell_type": "code",
   "execution_count": null,
   "id": "124842b4-6c22-48b1-97aa-524191dcb1ec",
   "metadata": {},
   "outputs": [],
   "source": []
  }
 ],
 "metadata": {
  "kernelspec": {
   "display_name": "Python 3 (ipykernel)",
   "language": "python",
   "name": "python3"
  },
  "language_info": {
   "codemirror_mode": {
    "name": "ipython",
    "version": 3
   },
   "file_extension": ".py",
   "mimetype": "text/x-python",
   "name": "python",
   "nbconvert_exporter": "python",
   "pygments_lexer": "ipython3",
   "version": "3.9.21"
  }
 },
 "nbformat": 4,
 "nbformat_minor": 5
}
